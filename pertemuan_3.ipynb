{
  "nbformat": 4,
  "nbformat_minor": 0,
  "metadata": {
    "colab": {
      "provenance": [],
      "collapsed_sections": [
        "X75GCyifmzg7"
      ],
      "authorship_tag": "ABX9TyOBHS4yf/Pr6ZwluNuok7VF",
      "include_colab_link": true
    },
    "kernelspec": {
      "name": "python3",
      "display_name": "Python 3"
    },
    "language_info": {
      "name": "python"
    }
  },
  "cells": [
    {
      "cell_type": "markdown",
      "metadata": {
        "id": "view-in-github",
        "colab_type": "text"
      },
      "source": [
        "<a href=\"https://colab.research.google.com/github/otokay/Kecerdasan-Buatan/blob/heuristic-searching/pertemuan_3.ipynb\" target=\"_parent\"><img src=\"https://colab.research.google.com/assets/colab-badge.svg\" alt=\"Open In Colab\"/></a>"
      ]
    },
    {
      "cell_type": "markdown",
      "source": [
        "# Best First Search"
      ],
      "metadata": {
        "id": "X75GCyifmzg7"
      }
    },
    {
      "cell_type": "code",
      "source": [
        "from queue import PriorityQueue\n",
        "v = 14\n",
        "graph = [[] for i in range(v)]"
      ],
      "metadata": {
        "id": "CJ0RszUpnRxA"
      },
      "execution_count": null,
      "outputs": []
    },
    {
      "cell_type": "code",
      "source": [
        "def best_first_search(actual_Src, target, n):\n",
        "  visited = [False] * n\n",
        "\n",
        "  pq = PriorityQueue()\n",
        "  pq.put((0,actual_Src))\n",
        "  visited[actual_Src]\n",
        "\n",
        "  while pq.empty() == False:\n",
        "    u = pq.get()[1]\n",
        "    print(u, end=\" \")\n",
        "    if u == target:\n",
        "      break\n",
        "\n",
        "    for v, c in graph[u]:\n",
        "      if visited[v] == False:\n",
        "        visited[v] = True\n",
        "        pq.put((c, v))\n",
        "\n",
        "  print()\n",
        "\n",
        "  printPQ(pq)"
      ],
      "metadata": {
        "id": "JDQeuy7lnhH4"
      },
      "execution_count": null,
      "outputs": []
    },
    {
      "cell_type": "code",
      "source": [
        "def printPQ(pq):\n",
        "  while not pq.empty():\n",
        "    item = pq.get()\n",
        "    print(item)"
      ],
      "metadata": {
        "id": "Azfp19xaoRrp"
      },
      "execution_count": null,
      "outputs": []
    },
    {
      "cell_type": "code",
      "source": [
        "def addedge(x, y, cost):\n",
        "  graph[x].append((y, cost))\n",
        "  graph[y].append((x, cost))\n"
      ],
      "metadata": {
        "id": "3bpYwHJbofCz"
      },
      "execution_count": null,
      "outputs": []
    },
    {
      "cell_type": "code",
      "source": [
        "addedge(0, 1, 3)\n",
        "addedge(0, 2, 6)\n",
        "addedge(0, 3, 5)\n",
        "addedge(1, 4, 9)\n",
        "addedge(1, 5, 8)\n",
        "addedge(2, 6, 12)\n",
        "addedge(2, 7, 14)\n",
        "addedge(3, 8, 7)\n",
        "addedge(8, 9, 5)\n",
        "addedge(8, 10, 6)\n",
        "addedge(9, 11, 1)\n",
        "addedge(9, 12, 10)\n",
        "addedge(9, 13, 2)"
      ],
      "metadata": {
        "id": "zb7XoCl-o2y3"
      },
      "execution_count": null,
      "outputs": []
    },
    {
      "cell_type": "code",
      "source": [
        "source = 0\n",
        "target = 9\n",
        "best_first_search(source, target, v)"
      ],
      "metadata": {
        "colab": {
          "base_uri": "https://localhost:8080/"
        },
        "id": "Fz7SZvsHo2kH",
        "outputId": "c984c86a-2230-44ec-9e22-93231acf001f"
      },
      "execution_count": null,
      "outputs": [
        {
          "output_type": "stream",
          "name": "stdout",
          "text": [
            "0 1 0 3 2 8 9 \n",
            "(6, 10)\n",
            "(8, 5)\n",
            "(9, 4)\n",
            "(12, 6)\n",
            "(14, 7)\n"
          ]
        }
      ]
    },
    {
      "cell_type": "markdown",
      "source": [
        "# Greedy Best First Search"
      ],
      "metadata": {
        "id": "EvsRYtWvmzyy"
      }
    },
    {
      "cell_type": "code",
      "source": [
        "import queue\n",
        "import matplotlib.pyplot as plt"
      ],
      "metadata": {
        "id": "AG5vVGy_pk9y"
      },
      "execution_count": null,
      "outputs": []
    },
    {
      "cell_type": "code",
      "source": [
        "def getHeuristics():\n",
        "  heuristics = {}\n",
        "  f = open(\"/content/heuristics.txt\")\n",
        "  for i in f.readlines():\n",
        "    node_heuristic_val = i.split()\n",
        "    heuristics[node_heuristic_val[0]] = int(node_heuristic_val[1])\n",
        "  return heuristics"
      ],
      "metadata": {
        "id": "RxpG4TRcpk6n"
      },
      "execution_count": null,
      "outputs": []
    },
    {
      "cell_type": "code",
      "source": [
        "def getCity():\n",
        "  city = {}\n",
        "  citiesCode = {}\n",
        "  f = open(\"/content/cities.txt\")\n",
        "  j = 1\n",
        "  for i in f.readlines():\n",
        "    node_city_val = i.split()\n",
        "    city[node_city_val[0]] = [int(node_city_val[1]), int(node_city_val[2])]\n",
        "\n",
        "    citiesCode[j] = node_city_val[0]\n",
        "    j += 1\n",
        "\n",
        "  return city, citiesCode"
      ],
      "metadata": {
        "id": "rVGO2yP0pk20"
      },
      "execution_count": null,
      "outputs": []
    },
    {
      "cell_type": "code",
      "source": [
        "def createGraph():\n",
        "  graph = {}\n",
        "  file = open(\"/content/citiesGraph.txt\")\n",
        "  for i in file.readlines():\n",
        "    node_val = i.split()\n",
        "\n",
        "    if node_val[0] in graph and node_val[1] in graph:\n",
        "      c = graph.get(node_val[0])\n",
        "      c.append([node_val[1], node_val[2]])\n",
        "      graph.update({node_val[0]: c})\n",
        "\n",
        "      c = graph.get(node_val[1])\n",
        "      c.append([node_val[0], node_val[2]])\n",
        "      graph.update({node_val[1]: c})\n",
        "\n",
        "    elif node_val[0] in graph:\n",
        "      c = graph.get(node_val[0])\n",
        "      c.append([node_val[1], node_val[2]])\n",
        "      graph.update({node_val[0]: c})\n",
        "\n",
        "      graph[node_val[1]] = [[node_val[0], node_val[2]]]\n",
        "\n",
        "    elif node_val[1] in graph:\n",
        "      c = graph.get(node_val[1])\n",
        "      c.append([node_val[0], node_val[2]])\n",
        "      graph.update({node_val[1]: c})\n",
        "\n",
        "      graph[node_val[1]] = [[node_val[0], node_val[2]]]\n",
        "\n",
        "    else:\n",
        "      graph[node_val[0]] = [[node_val[1], node_val[2]]]\n",
        "      graph[node_val[1]] = [[node_val[0], node_val[2]]]\n",
        "    \n",
        "  return graph"
      ],
      "metadata": {
        "id": "s7enLrkwpkzX"
      },
      "execution_count": null,
      "outputs": []
    },
    {
      "cell_type": "code",
      "source": [
        "def GBFS(startNode, heuristics, graph, goalNode=\"Bucharest\"):\n",
        "  priorityQueue = queue.PriorityQueue()\n",
        "  priorityQueue.put((heuristics[startNode], startNode))\n",
        "\n",
        "  path = []\n",
        "\n",
        "  while priorityQueue.empty() == False:\n",
        "    current = priorityQueue.get()[1]\n",
        "    path.append(current)\n",
        "\n",
        "    if current == goalNode:\n",
        "      break\n",
        "\n",
        "    priorityQueue = queue.PriorityQueue()\n",
        "\n",
        "    for i in graph[current]:\n",
        "      if i[0] not in path:\n",
        "        priorityQueue.put((heuristics[i[0]], i[0]))\n",
        "\n",
        "  return path"
      ],
      "metadata": {
        "id": "mgP0AGz5pkvv"
      },
      "execution_count": null,
      "outputs": []
    },
    {
      "cell_type": "code",
      "source": [
        "def drawMap(city, gbfs, graph):\n",
        "  for i, j in city.items():\n",
        "      plt.plot(j[0], j[1], \"ro\")\n",
        "      plt.annotate(i, (j[0] + 5, j[1]))\n",
        "\n",
        "      for k in graph[i]:\n",
        "          n = city[k[0]]\n",
        "          plt.plot([j[0], n[0]], [j[1], n[1]], \"gray\")\n",
        "\n",
        "  for i in range(len(gbfs)):\n",
        "      try:\n",
        "          first = city[gbfs[i]]\n",
        "          second = city[gbfs[i + 1]]\n",
        "\n",
        "          plt.plot([first[0], second[0]], [first[1], second[1]], \"green\")\n",
        "      except:\n",
        "          continue\n",
        "  \n",
        "  plt.errorbar(1, 1, label=\"GBFS\", color=\"green\")\n",
        "  plt.legend(loc=\"lower left\")\n",
        "\n",
        "  plt.show()"
      ],
      "metadata": {
        "id": "SdH4LNwEpkru"
      },
      "execution_count": null,
      "outputs": []
    },
    {
      "cell_type": "code",
      "source": [
        "def main():\n",
        "  heuristic = getHeuristics()\n",
        "  graph = createGraph()\n",
        "  city, citiesCode = getCity()\n",
        "\n",
        "  for i, j, in citiesCode.items():\n",
        "    print(i, j)\n",
        "  \n",
        "  while True:\n",
        "    inputCode = int(input(\"masukan nomor kota asal (0 untuk keluar): \"))\n",
        "\n",
        "    if inputCode == 0:\n",
        "      break\n",
        "\n",
        "    cityName = citiesCode[inputCode]\n",
        "\n",
        "    gbfs = GBFS(cityName, heuristic, graph)\n",
        "    print(\"GBFS => \", gbfs)\n",
        "\n",
        "    drawMap(city, gbfs, graph)\n",
        "\n",
        "main()"
      ],
      "metadata": {
        "colab": {
          "base_uri": "https://localhost:8080/",
          "height": 710
        },
        "id": "Zv_UqJdupknM",
        "outputId": "e625c5b1-c482-4a9a-bcb9-1d73bf2e8cc2"
      },
      "execution_count": null,
      "outputs": [
        {
          "name": "stdout",
          "output_type": "stream",
          "text": [
            "1 Arad\n",
            "2 Bucharest\n",
            "3 Craiova\n",
            "4 Dobreta\n",
            "5 Eforie\n",
            "6 Fagaras\n",
            "7 Giurgiu\n",
            "8 Hirsova\n",
            "9 Iasi\n",
            "10 Lugoj\n",
            "11 Mehadia\n",
            "12 Neamt\n",
            "13 Oradea\n",
            "14 Pitesti\n",
            "15 Rimnicu_Vilcea\n",
            "16 Sibiu\n",
            "17 Timisoara\n",
            "18 Urziceni\n",
            "19 Vaslui\n",
            "20 Zerind\n",
            "masukan nomor kota asal (0 untuk keluar): 10\n"
          ]
        },
        {
          "output_type": "error",
          "ename": "KeyError",
          "evalue": "ignored",
          "traceback": [
            "\u001b[0;31m---------------------------------------------------------------------------\u001b[0m",
            "\u001b[0;31mKeyError\u001b[0m                                  Traceback (most recent call last)",
            "\u001b[0;32m<ipython-input-78-552875ebcd4a>\u001b[0m in \u001b[0;36m<module>\u001b[0;34m\u001b[0m\n\u001b[1;32m     20\u001b[0m     \u001b[0mdrawMap\u001b[0m\u001b[0;34m(\u001b[0m\u001b[0mcity\u001b[0m\u001b[0;34m,\u001b[0m \u001b[0mgbfs\u001b[0m\u001b[0;34m,\u001b[0m \u001b[0mgraph\u001b[0m\u001b[0;34m)\u001b[0m\u001b[0;34m\u001b[0m\u001b[0;34m\u001b[0m\u001b[0m\n\u001b[1;32m     21\u001b[0m \u001b[0;34m\u001b[0m\u001b[0m\n\u001b[0;32m---> 22\u001b[0;31m \u001b[0mmain\u001b[0m\u001b[0;34m(\u001b[0m\u001b[0;34m)\u001b[0m\u001b[0;34m\u001b[0m\u001b[0;34m\u001b[0m\u001b[0m\n\u001b[0m",
            "\u001b[0;32m<ipython-input-78-552875ebcd4a>\u001b[0m in \u001b[0;36mmain\u001b[0;34m()\u001b[0m\n\u001b[1;32m     15\u001b[0m     \u001b[0mcityName\u001b[0m \u001b[0;34m=\u001b[0m \u001b[0mcitiesCode\u001b[0m\u001b[0;34m[\u001b[0m\u001b[0minputCode\u001b[0m\u001b[0;34m]\u001b[0m\u001b[0;34m\u001b[0m\u001b[0;34m\u001b[0m\u001b[0m\n\u001b[1;32m     16\u001b[0m \u001b[0;34m\u001b[0m\u001b[0m\n\u001b[0;32m---> 17\u001b[0;31m     \u001b[0mgbfs\u001b[0m \u001b[0;34m=\u001b[0m \u001b[0mGBFS\u001b[0m\u001b[0;34m(\u001b[0m\u001b[0mcityName\u001b[0m\u001b[0;34m,\u001b[0m \u001b[0mheuristic\u001b[0m\u001b[0;34m,\u001b[0m \u001b[0mgraph\u001b[0m\u001b[0;34m)\u001b[0m\u001b[0;34m\u001b[0m\u001b[0;34m\u001b[0m\u001b[0m\n\u001b[0m\u001b[1;32m     18\u001b[0m     \u001b[0mprint\u001b[0m\u001b[0;34m(\u001b[0m\u001b[0;34m\"GBFS => \"\u001b[0m\u001b[0;34m,\u001b[0m \u001b[0mgbfs\u001b[0m\u001b[0;34m)\u001b[0m\u001b[0;34m\u001b[0m\u001b[0;34m\u001b[0m\u001b[0m\n\u001b[1;32m     19\u001b[0m \u001b[0;34m\u001b[0m\u001b[0m\n",
            "\u001b[0;32m<ipython-input-43-7a755cb78479>\u001b[0m in \u001b[0;36mGBFS\u001b[0;34m(startNode, heuristics, graph, goalNode)\u001b[0m\n\u001b[1;32m     14\u001b[0m     \u001b[0mpriorityQueue\u001b[0m \u001b[0;34m=\u001b[0m \u001b[0mqueue\u001b[0m\u001b[0;34m.\u001b[0m\u001b[0mPriorityQueue\u001b[0m\u001b[0;34m(\u001b[0m\u001b[0;34m)\u001b[0m\u001b[0;34m\u001b[0m\u001b[0;34m\u001b[0m\u001b[0m\n\u001b[1;32m     15\u001b[0m \u001b[0;34m\u001b[0m\u001b[0m\n\u001b[0;32m---> 16\u001b[0;31m     \u001b[0;32mfor\u001b[0m \u001b[0mi\u001b[0m \u001b[0;32min\u001b[0m \u001b[0mgraph\u001b[0m\u001b[0;34m[\u001b[0m\u001b[0mcurrent\u001b[0m\u001b[0;34m]\u001b[0m\u001b[0;34m:\u001b[0m\u001b[0;34m\u001b[0m\u001b[0;34m\u001b[0m\u001b[0m\n\u001b[0m\u001b[1;32m     17\u001b[0m       \u001b[0;32mif\u001b[0m \u001b[0mi\u001b[0m\u001b[0;34m[\u001b[0m\u001b[0;36m0\u001b[0m\u001b[0;34m]\u001b[0m \u001b[0;32mnot\u001b[0m \u001b[0;32min\u001b[0m \u001b[0mpath\u001b[0m\u001b[0;34m:\u001b[0m\u001b[0;34m\u001b[0m\u001b[0;34m\u001b[0m\u001b[0m\n\u001b[1;32m     18\u001b[0m         \u001b[0mpriorityQueue\u001b[0m\u001b[0;34m.\u001b[0m\u001b[0mput\u001b[0m\u001b[0;34m(\u001b[0m\u001b[0;34m(\u001b[0m\u001b[0mheuristics\u001b[0m\u001b[0;34m[\u001b[0m\u001b[0mi\u001b[0m\u001b[0;34m[\u001b[0m\u001b[0;36m0\u001b[0m\u001b[0;34m]\u001b[0m\u001b[0;34m]\u001b[0m\u001b[0;34m,\u001b[0m \u001b[0mi\u001b[0m\u001b[0;34m[\u001b[0m\u001b[0;36m0\u001b[0m\u001b[0;34m]\u001b[0m\u001b[0;34m)\u001b[0m\u001b[0;34m)\u001b[0m\u001b[0;34m\u001b[0m\u001b[0;34m\u001b[0m\u001b[0m\n",
            "\u001b[0;31mKeyError\u001b[0m: 'Lugoj'"
          ]
        }
      ]
    },
    {
      "cell_type": "markdown",
      "source": [
        "# A* Search"
      ],
      "metadata": {
        "id": "_UNeR--zmzM8"
      }
    }
  ]
}
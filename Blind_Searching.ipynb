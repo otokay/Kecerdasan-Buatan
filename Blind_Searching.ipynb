{
  "nbformat": 4,
  "nbformat_minor": 0,
  "metadata": {
    "colab": {
      "provenance": [],
      "collapsed_sections": [
        "uwGDdDuvl3o9",
        "av_rBeZgmBsB",
        "3ImTLmKVmCBv",
        "ww9LqUXQ3cZ7"
      ],
      "authorship_tag": "ABX9TyNWM3Qb8j+RJN0ssvB7ccYs",
      "include_colab_link": true
    },
    "kernelspec": {
      "name": "python3",
      "display_name": "Python 3"
    },
    "language_info": {
      "name": "python"
    }
  },
  "cells": [
    {
      "cell_type": "markdown",
      "metadata": {
        "id": "view-in-github",
        "colab_type": "text"
      },
      "source": [
        "<a href=\"https://colab.research.google.com/github/otokay/Kecerdasan-Buatan/blob/main/Blind_Searching.ipynb\" target=\"_parent\"><img src=\"https://colab.research.google.com/assets/colab-badge.svg\" alt=\"Open In Colab\"/></a>"
      ]
    },
    {
      "cell_type": "markdown",
      "source": [
        "# BFS (Breadth First Search)"
      ],
      "metadata": {
        "id": "uwGDdDuvl3o9"
      }
    },
    {
      "cell_type": "code",
      "source": [
        "def bfs(graph, source):\n",
        "  visited = set()\n",
        "  bfs_traversal = list()\n",
        "  queue = list()\n",
        "\n",
        "  queue.append(source)\n",
        "  visited.add(source)\n",
        "\n",
        "  while queue:\n",
        "    current_node = queue.pop(0)\n",
        "    bfs_traversal.append (current_node)\n",
        "\n",
        "    for neighbour_node in graph[current_node]:\n",
        "      if neighbour_node not in visited:\n",
        "        visited.add(neighbour_node)\n",
        "        queue.append(neighbour_node)\n",
        "        \n",
        "  return bfs_traversal"
      ],
      "metadata": {
        "id": "bLRZUtlrmNOV"
      },
      "execution_count": 1,
      "outputs": []
    },
    {
      "cell_type": "code",
      "source": [
        "\n",
        "def main(): \n",
        "    visited = set()\n",
        "    bfs_traversal = list()\n",
        "\n",
        "    graph = {\n",
        "        'A': ['B', 'C'],\n",
        "        'B': ['D', 'E'],\n",
        "        'C': ['F', 'G'],\n",
        "        'D': [],\n",
        "        'E': [],\n",
        "        'F': [],\n",
        "        'G': []\n",
        "    }\n",
        "\n",
        "    bfs_traversal = bfs(graph, 'A')\n",
        "    print(f\"BFS: {bfs_traversal}\")\n",
        "\n",
        "if __name__=='__main__':\n",
        "  main()\n"
      ],
      "metadata": {
        "id": "95rfnk9te7-B",
        "colab": {
          "base_uri": "https://localhost:8080/"
        },
        "outputId": "8a4783a0-10ed-469f-b60a-1fe2bf357692"
      },
      "execution_count": 2,
      "outputs": [
        {
          "output_type": "stream",
          "name": "stdout",
          "text": [
            "BFS: ['A', 'B', 'C', 'D', 'E', 'F', 'G']\n"
          ]
        }
      ]
    },
    {
      "cell_type": "markdown",
      "source": [
        "# DFS (Depth First Search)"
      ],
      "metadata": {
        "id": "av_rBeZgmBsB"
      }
    },
    {
      "cell_type": "code",
      "source": [
        "def dfs(graph, source, visited, dfs_traversal):\n",
        "  if source not in visited:\n",
        "    dfs_traversal.append(source)\n",
        "    visited.add(source)\n",
        "\n",
        "    for neighbour_node in graph[source]:\n",
        "      dfs(graph, neighbour_node, visited,dfs_traversal)\n",
        "      \n",
        "  return dfs_traversal"
      ],
      "metadata": {
        "id": "AhYEdp8_nAtX"
      },
      "execution_count": 4,
      "outputs": []
    },
    {
      "cell_type": "code",
      "source": [
        "def main():\n",
        "  visited = set()\n",
        "  dfs_traversal = list()\n",
        "\n",
        "  graph = {\n",
        "        'A': ['B', 'C'],\n",
        "        'B': ['D', 'E'],\n",
        "        'C': ['F', 'G'],\n",
        "        'D': [],\n",
        "        'E': [],\n",
        "        'F': [],\n",
        "        'G': []\n",
        "    }\n",
        "    \n",
        "  print(f\"DFS: {dfs(graph, 'A', visited, dfs_traversal)}\")\n",
        "\n",
        "if __name__==\"__main__\":\n",
        "  main()"
      ],
      "metadata": {
        "colab": {
          "base_uri": "https://localhost:8080/"
        },
        "id": "Q4UJo76Dn5H0",
        "outputId": "d0307614-247d-48ae-e513-fa4bed654fd4"
      },
      "execution_count": 5,
      "outputs": [
        {
          "output_type": "stream",
          "name": "stdout",
          "text": [
            "DFS: ['A', 'B', 'D', 'E', 'C', 'F', 'G']\n"
          ]
        }
      ]
    },
    {
      "cell_type": "markdown",
      "source": [
        "# UCS (Uniform Cost Search)"
      ],
      "metadata": {
        "id": "3ImTLmKVmCBv"
      }
    },
    {
      "cell_type": "code",
      "source": [
        "def  uniform_cost_search(goal, start):\n",
        "     \n",
        "    # minimum cost upto\n",
        "    # goal state from starting\n",
        "    global graph,cost\n",
        "    answer = []\n",
        " \n",
        "    # create a priority queue\n",
        "    queue = []\n",
        " \n",
        "    # set the answer vector to max value\n",
        "    for i in range(len(goal)):\n",
        "        answer.append(10**8)\n",
        " \n",
        "    # insert the starting index\n",
        "    queue.append([0, start])\n",
        " \n",
        "    # map to store visited node\n",
        "    visited = {}\n",
        " \n",
        "    # count\n",
        "    count = 0\n",
        " \n",
        "    # while the queue is not empty\n",
        "    while (len(queue) > 0):\n",
        " \n",
        "        # get the top element of the\n",
        "        queue = sorted(queue)\n",
        "        p = queue[-1]\n",
        " \n",
        "        # pop the element\n",
        "        del queue[-1]\n",
        " \n",
        "        # get the original value\n",
        "        p[0] *= -1\n",
        " \n",
        "        # check if the element is part of\n",
        "        # the goal list\n",
        "        if (p[1] in goal):\n",
        " \n",
        "            # get the position\n",
        "            index = goal.index(p[1])\n",
        " \n",
        "            # if a new goal is reached\n",
        "            if (answer[index] == 10**8):\n",
        "                count += 1\n",
        " \n",
        "            # if the cost is less\n",
        "            if (answer[index] > p[0]):\n",
        "                answer[index] = p[0]\n",
        " \n",
        "            # pop the element\n",
        "            del queue[-1]\n",
        " \n",
        "            queue = sorted(queue)\n",
        "            if (count == len(goal)):\n",
        "                return answer\n",
        " \n",
        "        # check for the non visited nodes\n",
        "        # which are adjacent to present node\n",
        "        if (p[1] not in visited):\n",
        "            for i in range(len(graph[p[1]])):\n",
        " \n",
        "                # value is multiplied by -1 so that\n",
        "                # least priority is at the top\n",
        "                queue.append( [(p[0] + cost[(p[1], graph[p[1]][i])])* -1, graph[p[1]][i]])\n",
        " \n",
        "        # mark as visited\n",
        "        visited[p[1]] = 1\n",
        " \n",
        "    return answer\n",
        " \n",
        "# main function\n",
        "if __name__ == '__main__':\n",
        "     \n",
        "    # create the graph\n",
        "    graph,cost = [[] for i in range(8)],{}\n",
        " \n",
        "    # add edge\n",
        "    graph[0].append(1)\n",
        "    graph[0].append(3)\n",
        "    graph[3].append(1)\n",
        "    graph[3].append(6)\n",
        "    graph[3].append(4)\n",
        "    graph[1].append(6)\n",
        "    graph[4].append(2)\n",
        "    graph[4].append(5)\n",
        "    graph[2].append(1)\n",
        "    graph[5].append(2)\n",
        "    graph[5].append(6)\n",
        "    graph[6].append(4)\n",
        " \n",
        "    # add the cost\n",
        "    cost[(0, 1)] = 2\n",
        "    cost[(0, 3)] = 5\n",
        "    cost[(1, 6)] = 1\n",
        "    cost[(3, 1)] = 5\n",
        "    cost[(3, 6)] = 6\n",
        "    cost[(3, 4)] = 2\n",
        "    cost[(2, 1)] = 4\n",
        "    cost[(4, 2)] = 4\n",
        "    cost[(4, 5)] = 3\n",
        "    cost[(5, 2)] = 6\n",
        "    cost[(5, 6)] = 3\n",
        "    cost[(6, 4)] = 7\n",
        " \n",
        "    # goal state\n",
        "    goal = []\n",
        " \n",
        "    # set the goal\n",
        "    # there can be multiple goal states\n",
        "    goal.append(6)\n",
        " \n",
        "    # get the answer\n",
        "    answer = uniform_cost_search(goal, 0)\n",
        " \n",
        "    # print the answer\n",
        "    print(\"Minimum cost from 0 to 6 is = \",answer[0])"
      ],
      "metadata": {
        "colab": {
          "base_uri": "https://localhost:8080/"
        },
        "id": "pHj4wQN2opiM",
        "outputId": "12d824f2-e0ae-4145-81af-5fd2d928bb11"
      },
      "execution_count": 6,
      "outputs": [
        {
          "output_type": "stream",
          "name": "stdout",
          "text": [
            "Minimum cost from 0 to 6 is =  3\n"
          ]
        }
      ]
    },
    {
      "cell_type": "markdown",
      "source": [
        "# Iterative Deepening Depth First Search"
      ],
      "metadata": {
        "id": "ww9LqUXQ3cZ7"
      }
    },
    {
      "cell_type": "code",
      "source": [
        "from collections import defaultdict\n",
        "\n",
        "class Graph:\n",
        "    def __init__(self, vertices):\n",
        "      self.V = vertices\n",
        "      self.graph = defaultdict(list)\n",
        "  \n",
        "    def addEdge(self, u, v):\n",
        "      self.graph[u].append(v)\n",
        "    \n",
        "    def DLS(self, src, target, maxDepth):\n",
        "      if src == target:\n",
        "          return True\n",
        "      \n",
        "      if maxDepth <= 0:\n",
        "          return False\n",
        "      \n",
        "      for i in self.graph[src]:\n",
        "          if (self.DLS(i, target, maxDepth-1)):\n",
        "            return True\n",
        "      return False\n",
        "\n",
        "    def IDDFS(self, src, target, maxDepth):\n",
        "        for i in range(maxDepth):\n",
        "          if (self.DLS(src, target, i)):\n",
        "            return True\n",
        "        return False"
      ],
      "metadata": {
        "id": "up4QhD7O_wGk"
      },
      "execution_count": 42,
      "outputs": []
    },
    {
      "cell_type": "code",
      "source": [
        "g = Graph (7)\n",
        "g.addEdge(0, 1)\n",
        "g.addEdge(0, 2)\n",
        "g.addEdge(0, 4)\n",
        "g.addEdge(1, 3)\n",
        "g.addEdge(1, 5)\n",
        "g.addEdge(2, 6)\n",
        "\n",
        "target = 6\n",
        "maxDepth = 3\n",
        "src = 0;\n",
        "\n",
        "if g.IDDFS(src, target, maxDepth) == True:\n",
        "    print(\"Target is reachable from source \" + \"within max depth\")\n",
        "\n",
        "else:\n",
        "    print(\"Target is NOT reachable from source \" + \"within max depth\")"
      ],
      "metadata": {
        "colab": {
          "base_uri": "https://localhost:8080/"
        },
        "id": "7K9c1ISsFWj-",
        "outputId": "f3903209-2326-4891-ecf0-8a28c1d30c5f"
      },
      "execution_count": 45,
      "outputs": [
        {
          "output_type": "stream",
          "name": "stdout",
          "text": [
            "Target is reachable from source within max depth\n"
          ]
        }
      ]
    },
    {
      "cell_type": "markdown",
      "source": [
        "# Bidirectional Search"
      ],
      "metadata": {
        "id": "YSyThVcg3c0G"
      }
    },
    {
      "cell_type": "code",
      "source": [
        "class AdjacentNode:\n",
        "  def __init__(self, vertex):\n",
        "    self.vertex = vertex\n",
        "    self.next = None\n",
        "\n",
        "class BidirectionalSearch:\n",
        "  def __init__(self, vertices):\n",
        "    self.vertices = vertices\n",
        "    self.graph = [None] * self.vertices\n",
        "    self.src_queue = list()\n",
        "    self.dest_queue = list()\n",
        "    self.src_visited = [False] * self.vertices\n",
        "    self.dest_visited = [False] * self.vertices\n",
        "    self.src_parent = [None] * self.vertices\n",
        "    self.dest_parent = [None] * self.vertices\n",
        "\n",
        "  def add_edge(self, src, dest):\n",
        "    node = AdjacentNode(dest)\n",
        "    node.next = self.graph[src]\n",
        "    self.graph[src] = node\n",
        "\n",
        "    node = AdjacentNode(src)\n",
        "    node.next = self.graph[src]\n",
        "    self.graph[dest] = node\n",
        "\n",
        "  def bfs(self, direction = 'forward'):\n",
        "    if direction == 'forward':\n",
        "      current = self.src_queue.pop(0)\n",
        "      connected_node = self.graph[current]\n",
        "      while connected_node:\n",
        "        vertex = connected_node.vertex\n",
        "        if not self.src_visited[vertex]:\n",
        "          self.src_queue.append(vertex)\n",
        "          self.src_visited[vertex] = True\n",
        "          self.src_parent[vertex] = current\n",
        "\n",
        "        connected_node = connected_node.next\n",
        "    else:\n",
        "      current = self.dest_queue.pop(0)\n",
        "      connected_node = self.graph[current]\n",
        "      while connected_node:\n",
        "        vertex = connected_node.vertex\n",
        "        if not self.dest_visited[vertex]:\n",
        "          self.dest_queue.append(vertex)\n",
        "          self.dest_visited[vertex] = True\n",
        "          self.dest_parent[vertex] = current\n",
        "        \n",
        "        connected_node = connected_node.next\n",
        " \n",
        "  def is_intersecting(self):\n",
        "    for i in range(self.vertices):\n",
        "      if (self.src_visited[i] and self.dest_visited[i]):\n",
        "        return i\n",
        "    return -1\n",
        "\n",
        "  def print_path(self, intersecting_node, src, dest):\n",
        "    path = list()\n",
        "    path.append(intersecting_node)\n",
        "    i = intersecting_node\n",
        "\n",
        "    while i != src:\n",
        "      path.append(self.src_parent[i])\n",
        "      i = self.src_parent[i]\n",
        "    \n",
        "    path = path[::-1]\n",
        "    i = intersecting_node\n",
        "    while i != dest:\n",
        "      path.append(self.dest_parent[i])\n",
        "      i = self.dest_parent[i]\n",
        "    \n",
        "    print(\"*****Path*****\")\n",
        "    path = list(map(str, path))\n",
        "    print(' '.join(path))\n",
        "\n",
        "  def bidirectional_search(self, src, dest):\n",
        "    self.src_queue.append(src)\n",
        "    self.src_visited[src] = True\n",
        "    self.src_parent[src] = -1\n",
        "\n",
        "    self.dest_queue.append(dest)\n",
        "    self.dest_visited[dest] = True\n",
        "    self.dest_parent[dest] = -1\n",
        "\n",
        "    while self.src_queue and self.dest_queue:\n",
        "      self.bfs(direction = 'forward')\n",
        "      self.bfs(direction = 'backward')\n",
        "      intersecting_node = self.is_intersecting()\n",
        "      if intersecting_node != -1:\n",
        "        print(f\"Paths exists between {src} and {dest}\")\n",
        "        print(f\"Intersecting at : {intersecting_node}\")\n",
        "        self.print_path(intersecting_node, src, dest)\n",
        "        exit(0)\n",
        "    return -1\n",
        "\n",
        "if __name__=='__main__':\n",
        "  n = 15\n",
        "  src = 0\n",
        "  dest = 6\n",
        "\n",
        "  graph = BidirectionalSearch(n)\n",
        "  graph.add_edge(0, 4)\n",
        "  graph.add_edge(1, 4)\n",
        "  graph.add_edge(2, 4)\n",
        "  graph.add_edge(3, 5)\n",
        "  graph.add_edge(4, 6)\n",
        "  graph.add_edge(5, 6)\n",
        "  graph.add_edge(6, 7)\n",
        "  graph.add_edge(7, 8)\n",
        "  graph.add_edge(8, 9)\n",
        "  graph.add_edge(8, 10)\n",
        "  graph.add_edge(9, 11)\n",
        "  graph.add_edge(9, 13)\n",
        "  graph.add_edge(10, 13)\n",
        "  graph.add_edge(10, 14)\n",
        "\n",
        "  out = graph.bidirectional_search(src, dest)\n",
        "\n",
        "  if out == -1:\n",
        "    print(f\"Path does not exists between {src} and {dest}\")\n"
      ],
      "metadata": {
        "colab": {
          "base_uri": "https://localhost:8080/"
        },
        "id": "eBG-zAdF_vvj",
        "outputId": "76aba1d0-f567-4e72-df7b-e600d41c5028"
      },
      "execution_count": 1,
      "outputs": [
        {
          "output_type": "stream",
          "name": "stdout",
          "text": [
            "Paths exists between 0 and 6\n",
            "Intersecting at : 6\n",
            "*****Path*****\n",
            "0 4 6\n",
            "Paths exists between 0 and 6\n",
            "Intersecting at : 3\n",
            "*****Path*****\n",
            "0 4 6 3 6\n",
            "Paths exists between 0 and 6\n",
            "Intersecting at : 3\n",
            "*****Path*****\n",
            "0 4 6 3 6\n",
            "Paths exists between 0 and 6\n",
            "Intersecting at : 3\n",
            "*****Path*****\n",
            "0 4 6 3 6\n",
            "Paths exists between 0 and 6\n",
            "Intersecting at : 3\n",
            "*****Path*****\n",
            "0 4 6 3 6\n",
            "Paths exists between 0 and 6\n",
            "Intersecting at : 3\n",
            "*****Path*****\n",
            "0 4 6 3 6\n",
            "Paths exists between 0 and 6\n",
            "Intersecting at : 3\n",
            "*****Path*****\n",
            "0 4 6 3 6\n",
            "Paths exists between 0 and 6\n",
            "Intersecting at : 3\n",
            "*****Path*****\n",
            "0 4 6 3 6\n",
            "Paths exists between 0 and 6\n",
            "Intersecting at : 3\n",
            "*****Path*****\n",
            "0 4 6 3 6\n",
            "Path does not exists between 0 and 6\n"
          ]
        }
      ]
    }
  ]
}